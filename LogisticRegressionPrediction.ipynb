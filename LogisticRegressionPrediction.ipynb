{
 "cells": [
  {
   "cell_type": "code",
   "execution_count": null,
   "metadata": {},
   "outputs": [],
   "source": [
    "import numpy as np\n",
    "import matplotlib.pyplot as plt\n",
    "from nnfs.datasets import spiral_data\n",
    "\n",
    "\n",
    "X, y = spiral_data(samples=100, classes=2)\n",
    "X_test, y_test = spiral_data(samples=100, classes=2)\n",
    "y = y.reshape(-1, 1)\n",
    "y_test = y_test.reshape(-1, 1)\n",
    "keys = np.array(range(X.shape[0]))\n",
    "np.random.shuffle(keys)\n",
    "X = X[keys]\n",
    "y = y[keys]"
   ]
  },
  {
   "cell_type": "code",
   "execution_count": null,
   "metadata": {},
   "outputs": [],
   "source": [
    "from Dense import Model, Layer_Dense, Activation_ReLU, OptimizerAdam, Loss_BinaryCrossentropy, Activation_Sigmoid, AccuracyCategorical, LayerDropout"
   ]
  },
  {
   "cell_type": "code",
   "execution_count": null,
   "metadata": {},
   "outputs": [],
   "source": [
    "model = Model()\n",
    "\n",
    "model.add(Layer_Dense(2, 128,weight_regularizer_l2=5e-4,bias_regularizer_l2=5e-4))\n",
    "model.add(Activation_ReLU())\n",
    "model.add(LayerDropout(0.1))\n",
    "model.add(Layer_Dense(128, 1))\n",
    "model.add(Activation_Sigmoid())\n",
    "\n",
    "model.set(\n",
    "  loss=Loss_BinaryCrossentropy(),\n",
    "  optimizer=OptimizerAdam(decay=5e-3),\n",
    "  accuracy=AccuracyCategorical(binary=True)\n",
    ")\n",
    "\n",
    "model.finalize()\n",
    "\n",
    "model.train(X, y, validation_data=(X_test, y_test),epochs=10000, printEvery=100)"
   ]
  },
  {
   "cell_type": "code",
   "execution_count": null,
   "metadata": {},
   "outputs": [],
   "source": [
    "model.evaluate(X_test, y_test)"
   ]
  }
 ],
 "metadata": {
  "interpreter": {
   "hash": "72e85bf8702a5531dd105b812468c0bac16632bcd99c74cc9ab556b094ff7be4"
  },
  "kernelspec": {
   "display_name": "Python 3.9.6 64-bit",
   "language": "python",
   "name": "python3"
  },
  "language_info": {
   "codemirror_mode": {
    "name": "ipython",
    "version": 3
   },
   "file_extension": ".py",
   "mimetype": "text/x-python",
   "name": "python",
   "nbconvert_exporter": "python",
   "pygments_lexer": "ipython3",
   "version": "3.9.6"
  },
  "orig_nbformat": 4
 },
 "nbformat": 4,
 "nbformat_minor": 2
}
