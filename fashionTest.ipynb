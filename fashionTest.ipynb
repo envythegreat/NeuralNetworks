{
 "cells": [
  {
   "cell_type": "code",
   "execution_count": null,
   "metadata": {},
   "outputs": [],
   "source": [
    "import os\n",
    "import cv2\n",
    "import numpy as np\n",
    "import matplotlib.pyplot as plt\n",
    "\n",
    "\n",
    "labels = os.listdir('../fashion_mnist_images/train')\n",
    "print(labels)\n",
    "files = os.listdir('../fashion_mnist_images/train/0')\n",
    "print(files[:10])\n",
    "print(len(files))"
   ]
  },
  {
   "cell_type": "code",
   "execution_count": null,
   "metadata": {},
   "outputs": [],
   "source": [
    "\n",
    "imageData = cv2.imread('../fashion_mnist_images/train/0/0000.png', cv2.IMREAD_UNCHANGED)\n",
    "np.set_printoptions(linewidth=200)\n",
    "plt.imshow(imageData)\n",
    "plt.show()"
   ]
  },
  {
   "cell_type": "code",
   "execution_count": null,
   "metadata": {},
   "outputs": [],
   "source": [
    "# Loads a MNIST dataset\n",
    "def loadMnistData(dataset, path):\n",
    "  # Scan all the directories and create a list of labels\n",
    "  labels = os.listdir(os.path.join(path, dataset))\n",
    "  # Create lists for samples and labels\n",
    "  X = []\n",
    "  y = []\n",
    "  # For each label folder\n",
    "  for label in labels:\n",
    "    # And for each image in given folde\n",
    "    for file in os.listdir(os.path.join(path, dataset, label)):\n",
    "      # Read the image\n",
    "      image = cv2.imread(os.path.join(path, dataset, label, file), cv2.IMREAD_UNCHANGED)\n",
    "\n",
    "      # And append it and a label to the lists\n",
    "      X.append(image)\n",
    "      \n",
    "      y.append(label)\n",
    "  # Convert the data to proper numpy arrays and return\n",
    "  print('Data Loaded')\n",
    "  return np.array(X), np.array(y).astype('uint8')\n",
    "\n",
    "# MNIST dataset (train + test)\n",
    "def createDataMnist(path):\n",
    "  # Load both sets separately\n",
    "  X, y = loadMnistData('train', path)\n",
    "  X_test, y_test = loadMnistData('test', path)\n",
    "  # And return all the data\n",
    "  return X,y,X_test,y_test"
   ]
  },
  {
   "cell_type": "code",
   "execution_count": null,
   "metadata": {},
   "outputs": [],
   "source": [
    "X, y, X_test, y_test = createDataMnist('../fashion_mnist_images')"
   ]
  },
  {
   "cell_type": "code",
   "execution_count": null,
   "metadata": {},
   "outputs": [],
   "source": [
    "# shuffling the data so our model stop having bad practices in trianing or over fitting\n",
    "keys = np.array(range(X.shape[0]))\n",
    "np.random.shuffle(keys)\n",
    "X = X[keys]\n",
    "y = y[keys]"
   ]
  },
  {
   "cell_type": "code",
   "execution_count": null,
   "metadata": {},
   "outputs": [],
   "source": [
    "# Scale and reshape samples\n",
    "X = (X.reshape(X.shape[0], -1).astype(np.float32) - 127.5) / 127.5\n",
    "X_test = (X_test.reshape(X_test.shape[0], -1).astype(np.float32) - 127.5) / 127.5"
   ]
  },
  {
   "cell_type": "code",
   "execution_count": null,
   "metadata": {},
   "outputs": [],
   "source": [
    "# Testing is the data Shuffled correctly\n",
    "plt.imshow((X[3333].reshape(28,28)))\n",
    "plt.show()\n",
    "print(y[3333])"
   ]
  },
  {
   "cell_type": "code",
   "execution_count": null,
   "metadata": {},
   "outputs": [],
   "source": [
    "from Dense import Model, Layer_Dense, Activation_ReLU, Activation_Softmax, lossCateCrossEntropy, OptimizerAdam, AccuracyCategorical"
   ]
  },
  {
   "cell_type": "code",
   "execution_count": null,
   "metadata": {},
   "outputs": [],
   "source": [
    "model = Model()\n",
    "model.add(Layer_Dense(X.shape[1], 128))\n",
    "model.add(Activation_ReLU())\n",
    "model.add(Layer_Dense(128,128))\n",
    "model.add(Activation_ReLU())\n",
    "model.add(Layer_Dense(128, 10))\n",
    "model.add(Activation_Softmax())\n",
    "\n",
    "# Set loss, optimizer and accuracy objects\n",
    "model.set(\n",
    "  loss=lossCateCrossEntropy(),\n",
    "  optimizer=OptimizerAdam(decay=1e-3),\n",
    "  accuracy=AccuracyCategorical()\n",
    ")\n",
    "\n",
    "model.finalize()\n",
    "\n",
    "model.train(X, y, validation_data=(X_test, y_test), epochs=5, batchSize=128, printEvery=100)"
   ]
  }
 ],
 "metadata": {
  "interpreter": {
   "hash": "8ce319ef478153d53d4a15306b640d676021bc7db8371d844705b443ce1fe937"
  },
  "kernelspec": {
   "display_name": "Python 3.8.8 64-bit ('base': conda)",
   "language": "python",
   "name": "python3"
  },
  "language_info": {
   "codemirror_mode": {
    "name": "ipython",
    "version": 3
   },
   "file_extension": ".py",
   "mimetype": "text/x-python",
   "name": "python",
   "nbconvert_exporter": "python",
   "pygments_lexer": "ipython3",
   "version": "3.9.6"
  },
  "orig_nbformat": 4
 },
 "nbformat": 4,
 "nbformat_minor": 2
}
