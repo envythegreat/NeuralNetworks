{
 "cells": [
  {
   "cell_type": "code",
   "execution_count": 1,
   "metadata": {},
   "outputs": [
    {
     "name": "stdout",
     "output_type": "stream",
     "text": [
      "['0', '1', '2', '3', '4', '5', '6', '7', '8', '9']\n",
      "['0000.png', '0001.png', '0002.png', '0003.png', '0004.png', '0005.png', '0006.png', '0007.png', '0008.png', '0009.png']\n",
      "6000\n"
     ]
    }
   ],
   "source": [
    "import os\n",
    "import cv2\n",
    "import numpy as np\n",
    "import matplotlib.pyplot as plt\n",
    "\n",
    "\n",
    "labels = os.listdir('../fashion_mnist_images/train')\n",
    "print(labels)\n",
    "files = os.listdir('../fashion_mnist_images/train/0')\n",
    "print(files[:10])\n",
    "print(len(files))"
   ]
  },
  {
   "cell_type": "code",
   "execution_count": 2,
   "metadata": {},
   "outputs": [
    {
     "data": {
      "image/png": "[encoded data removed]",
      "text/plain": [
       "<Figure size 432x288 with 1 Axes>"
      ]
     },
     "metadata": {
      "needs_background": "light"
     },
     "output_type": "display_data"
    }
   ],
   "source": [
    "\n",
    "imageData = cv2.imread('../fashion_mnist_images/train/0/0000.png', cv2.IMREAD_UNCHANGED)\n",
    "np.set_printoptions(linewidth=200)\n",
    "plt.imshow(imageData)\n",
    "plt.show()"
   ]
  },
  {
   "cell_type": "code",
   "execution_count": 3,
   "metadata": {},
   "outputs": [],
   "source": [
    "# Loads a MNIST dataset\n",
    "def loadMnistData(dataset, path):\n",
    "  # Scan all the directories and create a list of labels\n",
    "  labels = os.listdir(os.path.join(path, dataset))\n",
    "  # Create lists for samples and labels\n",
    "  X = []\n",
    "  y = []\n",
    "  # For each label folder\n",
    "  for label in labels:\n",
    "    # And for each image in given folde\n",
    "    for file in os.listdir(os.path.join(path, dataset, label)):\n",
    "      # Read the image\n",
    "      image = cv2.imread(os.path.join(path, dataset, label, file), cv2.IMREAD_UNCHANGED)\n",
    "\n",
    "      # And append it and a label to the lists\n",
    "      X.append(image)\n",
    "      \n",
    "      y.append(label)\n",
    "  # Convert the data to proper numpy arrays and return\n",
    "  print('Data Loaded')\n",
    "  return np.array(X), np.array(y).astype('uint8')\n",
    "\n",
    "# MNIST dataset (train + test)\n",
    "def createDataMnist(path):\n",
    "  # Load both sets separately\n",
    "  X, y = loadMnistData('train', path)\n",
    "  X_test, y_test = loadMnistData('test', path)\n",
    "  # And return all the data\n",
    "  return X,y,X_test,y_test"
   ]
  },
  {
   "cell_type": "code",
   "execution_count": 4,
   "metadata": {},
   "outputs": [
    {
     "name": "stdout",
     "output_type": "stream",
     "text": [
      "Data Loaded\n",
      "Data Loaded\n"
     ]
    }
   ],
   "source": [
    "X, y, X_test, y_test = createDataMnist('../fashion_mnist_images')"
   ]
  },
  {
   "cell_type": "code",
   "execution_count": 5,
   "metadata": {},
   "outputs": [],
   "source": [
    "# shuffling the data so our model stop having bad practices in trianing or over fitting\n",
    "keys = np.array(range(X.shape[0]))\n",
    "np.random.shuffle(keys)\n",
    "X = X[keys]\n",
    "y = y[keys]"
   ]
  },
  {
   "cell_type": "code",
   "execution_count": 6,
   "metadata": {},
   "outputs": [],
   "source": [
    "# Scale and reshape samples\n",
    "X = (X.reshape(X.shape[0], -1).astype(np.float32) - 127.5) / 127.5\n",
    "X_test = (X_test.reshape(X_test.shape[0], -1).astype(np.float32) - 127.5) / 127.5"
   ]
  },
  {
   "cell_type": "code",
   "execution_count": 7,
   "metadata": {},
   "outputs": [
    {
     "data": {
      "image/png": "[encoded data removed]",
      "text/plain": [
       "<Figure size 432x288 with 1 Axes>"
      ]
     },
     "metadata": {
      "needs_background": "light"
     },
     "output_type": "display_data"
    },
    {
     "name": "stdout",
     "output_type": "stream",
     "text": [
      "0\n"
     ]
    }
   ],
   "source": [
    "# Testing is the data Shuffled correctly\n",
    "plt.imshow((X[3333].reshape(28,28)))\n",
    "plt.show()\n",
    "print(y[3333])"
   ]
  },
  {
   "cell_type": "code",
   "execution_count": 8,
   "metadata": {},
   "outputs": [],
   "source": [
    "from Dense import Model, Layer_Dense, Activation_ReLU, Activation_Softmax, lossCateCrossEntropy, OptimizerAdam, AccuracyCategorical"
   ]
  },
  {
   "cell_type": "code",
   "execution_count": 9,
   "metadata": {},
   "outputs": [
    {
     "name": "stdout",
     "output_type": "stream",
     "text": [
      "epoch :1\n",
      "epoch: 0, acc: 0.039, loss: 2.302835677880509, (data_loss: 2.302835677880509, reg_loss: 0), lr: 0.001\n",
      "epoch: 100, acc: 0.695, loss: 0.812971620593502, (data_loss: 0.812971620593502, reg_loss: 0), lr: 0.0009090909090909091\n",
      "epoch: 200, acc: 0.805, loss: 0.5999767937659344, (data_loss: 0.5999767937659344, reg_loss: 0), lr: 0.0008333333333333334\n",
      "epoch: 300, acc: 0.758, loss: 0.5606027234186892, (data_loss: 0.5606027234186892, reg_loss: 0), lr: 0.0007692307692307692\n",
      "epoch: 400, acc: 0.828, loss: 0.459453961021402, (data_loss: 0.459453961021402, reg_loss: 0), lr: 0.0007142857142857143\n",
      "epoch: 468, acc: 0.781, loss: 0.49995052814174046, (data_loss: 0.49995052814174046, reg_loss: 0), lr: 0.000681198910081744\n",
      "epoch :2\n",
      "epoch: 0, acc: 0.883, loss: 0.39457531169711624, (data_loss: 0.39457531169711624, reg_loss: 0), lr: 0.0006807351940095304\n",
      "epoch: 100, acc: 0.797, loss: 0.5672260802934254, (data_loss: 0.5672260802934254, reg_loss: 0), lr: 0.0006373486297004461\n",
      "epoch: 200, acc: 0.844, loss: 0.4648441407572077, (data_loss: 0.4648441407572077, reg_loss: 0), lr: 0.0005991611743559018\n",
      "epoch: 300, acc: 0.828, loss: 0.44932938613186335, (data_loss: 0.44932938613186335, reg_loss: 0), lr: 0.0005652911249293386\n",
      "epoch: 400, acc: 0.852, loss: 0.40732956875202087, (data_loss: 0.40732956875202087, reg_loss: 0), lr: 0.0005350454788657037\n",
      "epoch: 468, acc: 0.833, loss: 0.4129192579577507, (data_loss: 0.4129192579577507, reg_loss: 0), lr: 0.0005162622612287042\n",
      "epoch :3\n",
      "epoch: 0, acc: 0.906, loss: 0.3369441842671288, (data_loss: 0.3369441842671288, reg_loss: 0), lr: 0.0005159958720330237\n",
      "epoch: 100, acc: 0.844, loss: 0.4738983967078268, (data_loss: 0.4738983967078268, reg_loss: 0), lr: 0.0004906771344455348\n",
      "epoch: 200, acc: 0.844, loss: 0.41949455002691627, (data_loss: 0.41949455002691627, reg_loss: 0), lr: 0.0004677268475210477\n",
      "epoch: 300, acc: 0.859, loss: 0.39058178527052556, (data_loss: 0.39058178527052556, reg_loss: 0), lr: 0.00044682752457551384\n",
      "epoch: 400, acc: 0.844, loss: 0.39079456633696924, (data_loss: 0.39079456633696924, reg_loss: 0), lr: 0.00042771599657827206\n",
      "epoch: 468, acc: 0.854, loss: 0.3658185225469339, (data_loss: 0.3658185225469339, reg_loss: 0), lr: 0.0004156275976724854\n",
      "epoch :4\n",
      "epoch: 0, acc: 0.906, loss: 0.31144938499066777, (data_loss: 0.31144938499066777, reg_loss: 0), lr: 0.0004154549231408392\n",
      "epoch: 100, acc: 0.859, loss: 0.42756381705352114, (data_loss: 0.42756381705352114, reg_loss: 0), lr: 0.00039888312724371757\n",
      "epoch: 200, acc: 0.867, loss: 0.3916227538737379, (data_loss: 0.3916227538737379, reg_loss: 0), lr: 0.0003835826620636747\n",
      "epoch: 300, acc: 0.867, loss: 0.35830365128314046, (data_loss: 0.35830365128314046, reg_loss: 0), lr: 0.0003694126339120798\n",
      "epoch: 400, acc: 0.852, loss: 0.3757509773441021, (data_loss: 0.3757509773441021, reg_loss: 0), lr: 0.0003562522265764161\n",
      "epoch: 468, acc: 0.865, loss: 0.33266786459886805, (data_loss: 0.33266786459886805, reg_loss: 0), lr: 0.00034782608695652176\n",
      "epoch :5\n",
      "epoch: 0, acc: 0.898, loss: 0.2953893114723619, (data_loss: 0.2953893114723619, reg_loss: 0), lr: 0.0003477051460361613\n",
      "epoch: 100, acc: 0.875, loss: 0.3911146425054042, (data_loss: 0.3911146425054042, reg_loss: 0), lr: 0.00033602150537634406\n",
      "epoch: 200, acc: 0.875, loss: 0.36653269633757035, (data_loss: 0.36653269633757035, reg_loss: 0), lr: 0.00032509752925877764\n",
      "epoch: 300, acc: 0.883, loss: 0.3309299150039342, (data_loss: 0.3309299150039342, reg_loss: 0), lr: 0.00031486146095717883\n",
      "epoch: 400, acc: 0.852, loss: 0.3607852275769568, (data_loss: 0.3607852275769568, reg_loss: 0), lr: 0.00030525030525030525\n",
      "epoch: 468, acc: 0.865, loss: 0.31553161017940107, (data_loss: 0.31553161017940107, reg_loss: 0), lr: 0.0002990430622009569\n",
      "training, acc: 0.874, loss: 0.345 (data_loss: 0.345, reg_loss: 0.000), lr: 0.0002990430622009569\n",
      "validation, acc: 0.861, loss: 0.383\n"
     ]
    }
   ],
   "source": [
    "model = Model()\n",
    "model.add(Layer_Dense(X.shape[1], 128))\n",
    "model.add(Activation_ReLU())\n",
    "model.add(Layer_Dense(128,128))\n",
    "model.add(Activation_ReLU())\n",
    "model.add(Layer_Dense(128, 10))\n",
    "model.add(Activation_Softmax())\n",
    "\n",
    "# Set loss, optimizer and accuracy objects\n",
    "model.set(\n",
    "  loss=lossCateCrossEntropy(),\n",
    "  optimizer=OptimizerAdam(decay=1e-3),\n",
    "  accuracy=AccuracyCategorical()\n",
    ")\n",
    "\n",
    "model.finalize()\n",
    "\n",
    "model.train(X, y, validation_data=(X_test, y_test), epochs=5, batchSize=128, printEvery=100)\n",
    "# model.saveParameters('fashion_mnist.parms')\n",
    "# model.loadParameters('fashion_mnist.parms')\n",
    "\n"
   ]
  },
  {
   "cell_type": "code",
   "execution_count": 10,
   "metadata": {},
   "outputs": [
    {
     "name": "stdout",
     "output_type": "stream",
     "text": [
      "validation, acc: 0.861, loss: 0.383\n"
     ]
    }
   ],
   "source": [
    "model.evaluate(X_test, y_test)\n",
    "# model.getParameters()\n"
   ]
  },
  {
   "cell_type": "code",
   "execution_count": 37,
   "metadata": {},
   "outputs": [
    {
     "name": "stdout",
     "output_type": "stream",
     "text": [
      "[5]\n",
      "Sandal\n"
     ]
    },
    {
     "data": {
      "image/png": "[encoded data removed]",
      "text/plain": [
       "<Figure size 432x288 with 1 Axes>"
      ]
     },
     "metadata": {
      "needs_background": "light"
     },
     "output_type": "display_data"
    }
   ],
   "source": [
    "# model.saveParameters('fashion_mnist.parms')\n",
    "\n",
    "# model.loadParameters('fashion_mnist.parms')\n",
    "\n",
    "# model.save('fashion_mnist.model')\n",
    "# model = Model.load('fashion_mnist.model')\n",
    "fashion_mnist_labels = {\n",
    "  0: 'T-shirt/top',\n",
    "  1: 'Trouser',\n",
    "  2: 'Pullover',\n",
    "  3: 'Dress',\n",
    "  4: 'Coat',\n",
    "  5: 'Sandal',\n",
    "  6: 'Shirt',\n",
    "  7: 'Sneaker',\n",
    "  8: 'Bag',\n",
    "  9: 'Ankle boot'\n",
    "}\n",
    "\n",
    "imageTest = cv2.imread('pant2.jpg', cv2.IMREAD_GRAYSCALE)\n",
    "\n",
    "imageTest = cv2.resize(imageTest, (28, 28))\n",
    "imageTest = 255 - imageTest\n",
    "plt.imshow(imageTest, cmap='gray')\n",
    "imageTest = (imageTest.reshape(1, -1).astype(np.float32) - 127.5) / 127.5\n",
    "confidences = model.predict(imageTest)\n",
    "predictions = model.outputLayerActivation.predictions(confidences)\n",
    "prediction = fashion_mnist_labels[predictions[0]]\n",
    "print(confidences)\n",
    "print(predictions)\n",
    "print(prediction)\n"
   ]
  }
 ],
 "metadata": {
  "interpreter": {
   "hash": "8ce319ef478153d53d4a15306b640d676021bc7db8371d844705b443ce1fe937"
  },
  "kernelspec": {
   "display_name": "Python 3.8.8 64-bit ('base': conda)",
   "language": "python",
   "name": "python3"
  },
  "language_info": {
   "codemirror_mode": {
    "name": "ipython",
    "version": 3
   },
   "file_extension": ".py",
   "mimetype": "text/x-python",
   "name": "python",
   "nbconvert_exporter": "python",
   "pygments_lexer": "ipython3",
   "version": "3.9.6"
  },
  "orig_nbformat": 4
 },
 "nbformat": 4,
 "nbformat_minor": 2
}
