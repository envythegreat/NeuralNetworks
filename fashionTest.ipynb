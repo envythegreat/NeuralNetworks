{
 "cells": [
  {
   "cell_type": "code",
   "execution_count": 20,
   "metadata": {},
   "outputs": [
    {
     "name": "stdout",
     "output_type": "stream",
     "text": [
      "['0', '1', '2', '3', '4', '5', '6', '7', '8', '9']\n",
      "['0000.png', '0001.png', '0002.png', '0003.png', '0004.png', '0005.png', '0006.png', '0007.png', '0008.png', '0009.png']\n",
      "6000\n"
     ]
    }
   ],
   "source": [
    "import os\n",
    "import cv2\n",
    "import numpy as np\n",
    "import matplotlib.pyplot as plt\n",
    "\n",
    "\n",
    "labels = os.listdir('../fashion_mnist_images/train')\n",
    "print(labels)\n",
    "files = os.listdir('../fashion_mnist_images/train/0')\n",
    "print(files[:10])\n",
    "print(len(files))"
   ]
  },
  {
   "cell_type": "code",
   "execution_count": 21,
   "metadata": {},
   "outputs": [
    {
     "data": {
      "image/png": "[encoded data removed]",
      "text/plain": [
       "<Figure size 432x288 with 1 Axes>"
      ]
     },
     "metadata": {
      "needs_background": "light"
     },
     "output_type": "display_data"
    }
   ],
   "source": [
    "\n",
    "imageData = cv2.imread('../fashion_mnist_images/train/0/0000.png', cv2.IMREAD_UNCHANGED)\n",
    "np.set_printoptions(linewidth=200)\n",
    "plt.imshow(imageData)\n",
    "plt.show()"
   ]
  },
  {
   "cell_type": "code",
   "execution_count": 22,
   "metadata": {},
   "outputs": [],
   "source": [
    "# Loads a MNIST dataset\n",
    "def loadMnistData(dataset, path):\n",
    "  # Scan all the directories and create a list of labels\n",
    "  labels = os.listdir(os.path.join(path, dataset))\n",
    "  # Create lists for samples and labels\n",
    "  X = []\n",
    "  y = []\n",
    "  # For each label folder\n",
    "  for label in labels:\n",
    "    # And for each image in given folde\n",
    "    for file in os.listdir(os.path.join(path, dataset, label)):\n",
    "      # Read the image\n",
    "      image = cv2.imread(os.path.join(path, dataset, label, file), cv2.IMREAD_UNCHANGED)\n",
    "\n",
    "      # And append it and a label to the lists\n",
    "      X.append(image)\n",
    "      \n",
    "      y.append(label)\n",
    "  # Convert the data to proper numpy arrays and return\n",
    "  print('Data Loaded')\n",
    "  return np.array(X), np.array(y).astype('uint8')\n",
    "\n",
    "# MNIST dataset (train + test)\n",
    "def createDataMnist(path):\n",
    "  # Load both sets separately\n",
    "  X, y = loadMnistData('train', path)\n",
    "  X_test, y_test = loadMnistData('test', path)\n",
    "  # And return all the data\n",
    "  return X,y,X_test,y_test"
   ]
  },
  {
   "cell_type": "code",
   "execution_count": 23,
   "metadata": {},
   "outputs": [
    {
     "name": "stdout",
     "output_type": "stream",
     "text": [
      "Data Loaded\n",
      "Data Loaded\n"
     ]
    }
   ],
   "source": [
    "X, y, X_test, y_test = createDataMnist('../fashion_mnist_images')"
   ]
  },
  {
   "cell_type": "code",
   "execution_count": 24,
   "metadata": {},
   "outputs": [],
   "source": [
    "# shuffling the data so our model stop having bad practices in trianing or over fitting\n",
    "keys = np.array(range(X.shape[0]))\n",
    "np.random.shuffle(keys)\n",
    "X = X[keys]\n",
    "y = y[keys]"
   ]
  },
  {
   "cell_type": "code",
   "execution_count": 25,
   "metadata": {},
   "outputs": [],
   "source": [
    "# Scale and reshape samples\n",
    "X = (X.reshape(X.shape[0], -1).astype(np.float32) - 127.5) / 127.5\n",
    "X_test = (X_test.reshape(X_test.shape[0], -1).astype(np.float32) - 127.5) / 127.5"
   ]
  },
  {
   "cell_type": "code",
   "execution_count": 26,
   "metadata": {},
   "outputs": [
    {
     "data": {
      "image/png": "[encoded data removed]",
      "text/plain": [
       "<Figure size 432x288 with 1 Axes>"
      ]
     },
     "metadata": {
      "needs_background": "light"
     },
     "output_type": "display_data"
    },
    {
     "name": "stdout",
     "output_type": "stream",
     "text": [
      "0\n"
     ]
    }
   ],
   "source": [
    "# Testing is the data Shuffled correctly\n",
    "plt.imshow((X[3333].reshape(28,28)))\n",
    "plt.show()\n",
    "print(y[3333])"
   ]
  },
  {
   "cell_type": "code",
   "execution_count": 27,
   "metadata": {},
   "outputs": [],
   "source": [
    "from Dense import Model, Layer_Dense, Activation_ReLU, Activation_Softmax, lossCateCrossEntropy, OptimizerAdam, AccuracyCategorical"
   ]
  },
  {
   "cell_type": "code",
   "execution_count": 28,
   "metadata": {},
   "outputs": [
    {
     "name": "stdout",
     "output_type": "stream",
     "text": [
      "epoch :1\n",
      "epoch: 0, acc: 0.086, loss: 2.3026907444000244, (data_loss: 2.3026907444000244, reg_loss: 0), lr: 0.001\n",
      "epoch: 100, acc: 0.742, loss: 0.6062399744987488, (data_loss: 0.6062399744987488, reg_loss: 0), lr: 0.0009090909090909091\n",
      "epoch: 200, acc: 0.734, loss: 0.6039029359817505, (data_loss: 0.6039029359817505, reg_loss: 0), lr: 0.0008333333333333334\n",
      "epoch: 300, acc: 0.789, loss: 0.5069700479507446, (data_loss: 0.5069700479507446, reg_loss: 0), lr: 0.0007692307692307692\n",
      "epoch: 400, acc: 0.812, loss: 0.5976190567016602, (data_loss: 0.5976190567016602, reg_loss: 0), lr: 0.0007142857142857143\n",
      "epoch: 468, acc: 0.823, loss: 0.5293903946876526, (data_loss: 0.5293903946876526, reg_loss: 0), lr: 0.000681198910081744\n",
      "epoch :2\n",
      "epoch: 0, acc: 0.836, loss: 0.44207850098609924, (data_loss: 0.44207850098609924, reg_loss: 0), lr: 0.0006807351940095304\n",
      "epoch: 100, acc: 0.883, loss: 0.3619862198829651, (data_loss: 0.3619862198829651, reg_loss: 0), lr: 0.0006373486297004461\n",
      "epoch: 200, acc: 0.828, loss: 0.44885388016700745, (data_loss: 0.44885388016700745, reg_loss: 0), lr: 0.0005991611743559018\n",
      "epoch: 300, acc: 0.852, loss: 0.42792147397994995, (data_loss: 0.42792147397994995, reg_loss: 0), lr: 0.0005652911249293386\n",
      "epoch: 400, acc: 0.836, loss: 0.4927578568458557, (data_loss: 0.4927578568458557, reg_loss: 0), lr: 0.0005350454788657037\n",
      "epoch: 468, acc: 0.844, loss: 0.46222981810569763, (data_loss: 0.46222981810569763, reg_loss: 0), lr: 0.0005162622612287042\n",
      "epoch :3\n",
      "epoch: 0, acc: 0.852, loss: 0.3895362913608551, (data_loss: 0.3895362913608551, reg_loss: 0), lr: 0.0005159958720330237\n",
      "epoch: 100, acc: 0.883, loss: 0.32665157318115234, (data_loss: 0.32665157318115234, reg_loss: 0), lr: 0.0004906771344455348\n",
      "epoch: 200, acc: 0.852, loss: 0.3820938467979431, (data_loss: 0.3820938467979431, reg_loss: 0), lr: 0.0004677268475210477\n",
      "epoch: 300, acc: 0.883, loss: 0.3844272196292877, (data_loss: 0.3844272196292877, reg_loss: 0), lr: 0.00044682752457551384\n",
      "epoch: 400, acc: 0.852, loss: 0.43505197763442993, (data_loss: 0.43505197763442993, reg_loss: 0), lr: 0.00042771599657827206\n",
      "epoch: 468, acc: 0.865, loss: 0.40983331203460693, (data_loss: 0.40983331203460693, reg_loss: 0), lr: 0.0004156275976724854\n",
      "epoch :4\n",
      "epoch: 0, acc: 0.859, loss: 0.34879693388938904, (data_loss: 0.34879693388938904, reg_loss: 0), lr: 0.0004154549231408392\n",
      "epoch: 100, acc: 0.906, loss: 0.3025682270526886, (data_loss: 0.3025682270526886, reg_loss: 0), lr: 0.00039888312724371757\n",
      "epoch: 200, acc: 0.852, loss: 0.36883413791656494, (data_loss: 0.36883413791656494, reg_loss: 0), lr: 0.0003835826620636747\n",
      "epoch: 300, acc: 0.883, loss: 0.35591375827789307, (data_loss: 0.35591375827789307, reg_loss: 0), lr: 0.0003694126339120798\n",
      "epoch: 400, acc: 0.852, loss: 0.4051560163497925, (data_loss: 0.4051560163497925, reg_loss: 0), lr: 0.0003562522265764161\n",
      "epoch: 468, acc: 0.875, loss: 0.35691413283348083, (data_loss: 0.35691413283348083, reg_loss: 0), lr: 0.00034782608695652176\n",
      "epoch :5\n",
      "epoch: 0, acc: 0.875, loss: 0.310401052236557, (data_loss: 0.310401052236557, reg_loss: 0), lr: 0.0003477051460361613\n",
      "epoch: 100, acc: 0.914, loss: 0.2871447205543518, (data_loss: 0.2871447205543518, reg_loss: 0), lr: 0.00033602150537634406\n",
      "epoch: 200, acc: 0.867, loss: 0.35905125737190247, (data_loss: 0.35905125737190247, reg_loss: 0), lr: 0.00032509752925877764\n",
      "epoch: 300, acc: 0.883, loss: 0.3347216248512268, (data_loss: 0.3347216248512268, reg_loss: 0), lr: 0.00031486146095717883\n",
      "epoch: 400, acc: 0.859, loss: 0.38882070779800415, (data_loss: 0.38882070779800415, reg_loss: 0), lr: 0.00030525030525030525\n",
      "epoch: 468, acc: 0.896, loss: 0.31588056683540344, (data_loss: 0.31588056683540344, reg_loss: 0), lr: 0.0002990430622009569\n",
      "training, acc: 0.876, loss: 0.343 (data_loss: 0.343, reg_loss: 0.000), lr: 0.0002990430622009569\n"
     ]
    },
    {
     "ename": "NameError",
     "evalue": "name 'batch_size' is not defined",
     "output_type": "error",
     "traceback": [
      "\u001b[1;31m---------------------------------------------------------------------------\u001b[0m",
      "\u001b[1;31mNameError\u001b[0m                                 Traceback (most recent call last)",
      "\u001b[1;32m~\\AppData\\Local\\Temp/ipykernel_7864/576535383.py\u001b[0m in \u001b[0;36m<module>\u001b[1;34m\u001b[0m\n\u001b[0;32m     16\u001b[0m \u001b[0mmodel\u001b[0m\u001b[1;33m.\u001b[0m\u001b[0mfinalize\u001b[0m\u001b[1;33m(\u001b[0m\u001b[1;33m)\u001b[0m\u001b[1;33m\u001b[0m\u001b[1;33m\u001b[0m\u001b[0m\n\u001b[0;32m     17\u001b[0m \u001b[1;33m\u001b[0m\u001b[0m\n\u001b[1;32m---> 18\u001b[1;33m \u001b[0mmodel\u001b[0m\u001b[1;33m.\u001b[0m\u001b[0mtrain\u001b[0m\u001b[1;33m(\u001b[0m\u001b[0mX\u001b[0m\u001b[1;33m,\u001b[0m \u001b[0my\u001b[0m\u001b[1;33m,\u001b[0m \u001b[0mvalidation_data\u001b[0m\u001b[1;33m=\u001b[0m\u001b[1;33m(\u001b[0m\u001b[0mX_test\u001b[0m\u001b[1;33m,\u001b[0m \u001b[0my_test\u001b[0m\u001b[1;33m)\u001b[0m\u001b[1;33m,\u001b[0m \u001b[0mepochs\u001b[0m\u001b[1;33m=\u001b[0m\u001b[1;36m5\u001b[0m\u001b[1;33m,\u001b[0m \u001b[0mbatchSize\u001b[0m\u001b[1;33m=\u001b[0m\u001b[1;36m128\u001b[0m\u001b[1;33m,\u001b[0m \u001b[0mprintEvery\u001b[0m\u001b[1;33m=\u001b[0m\u001b[1;36m100\u001b[0m\u001b[1;33m)\u001b[0m\u001b[1;33m\u001b[0m\u001b[1;33m\u001b[0m\u001b[0m\n\u001b[0m\u001b[0;32m     19\u001b[0m \u001b[1;33m\u001b[0m\u001b[0m\n",
      "\u001b[1;32mc:\\mlearningcourses\\starter\\nueronnetwork\\Dense.py\u001b[0m in \u001b[0;36mtrain\u001b[1;34m(self, X, y, epochs, printEvery, validation_data, batchSize)\u001b[0m\n\u001b[0;32m    637\u001b[0m \u001b[1;33m\u001b[0m\u001b[0m\n\u001b[0;32m    638\u001b[0m     \u001b[1;32mif\u001b[0m \u001b[0mvalidation_data\u001b[0m \u001b[1;32mis\u001b[0m \u001b[1;32mnot\u001b[0m \u001b[1;32mNone\u001b[0m\u001b[1;33m:\u001b[0m\u001b[1;33m\u001b[0m\u001b[1;33m\u001b[0m\u001b[0m\n\u001b[1;32m--> 639\u001b[1;33m       \u001b[0mself\u001b[0m\u001b[1;33m.\u001b[0m\u001b[0mevaluate\u001b[0m\u001b[1;33m(\u001b[0m\u001b[1;33m*\u001b[0m\u001b[0mvalidation_data\u001b[0m\u001b[1;33m,\u001b[0m\u001b[0mbatchSize\u001b[0m\u001b[1;33m=\u001b[0m\u001b[0mbatchSize\u001b[0m\u001b[1;33m)\u001b[0m\u001b[1;33m\u001b[0m\u001b[1;33m\u001b[0m\u001b[0m\n\u001b[0m\u001b[0;32m    640\u001b[0m \u001b[1;33m\u001b[0m\u001b[0m\n\u001b[0;32m    641\u001b[0m \u001b[1;33m\u001b[0m\u001b[0m\n",
      "\u001b[1;31mNameError\u001b[0m: name 'batch_size' is not defined"
     ]
    }
   ],
   "source": [
    "model = Model()\n",
    "model.add(Layer_Dense(X.shape[1], 128))\n",
    "model.add(Activation_ReLU())\n",
    "model.add(Layer_Dense(128,128))\n",
    "model.add(Activation_ReLU())\n",
    "model.add(Layer_Dense(128, 10))\n",
    "model.add(Activation_Softmax())\n",
    "\n",
    "# Set loss, optimizer and accuracy objects\n",
    "model.set(\n",
    "  loss=lossCateCrossEntropy(),\n",
    "  optimizer=OptimizerAdam(decay=1e-3),\n",
    "  accuracy=AccuracyCategorical()\n",
    ")\n",
    "\n",
    "model.finalize()\n",
    "\n",
    "model.train(X, y, validation_data=(X_test, y_test), epochs=5, batchSize=128, printEvery=100)\n",
    "\n"
   ]
  },
  {
   "cell_type": "code",
   "execution_count": null,
   "metadata": {},
   "outputs": [],
   "source": [
    "model.evaluate(X_test, y_test)"
   ]
  }
 ],
 "metadata": {
  "interpreter": {
   "hash": "8ce319ef478153d53d4a15306b640d676021bc7db8371d844705b443ce1fe937"
  },
  "kernelspec": {
   "display_name": "Python 3.8.8 64-bit ('base': conda)",
   "language": "python",
   "name": "python3"
  },
  "language_info": {
   "codemirror_mode": {
    "name": "ipython",
    "version": 3
   },
   "file_extension": ".py",
   "mimetype": "text/x-python",
   "name": "python",
   "nbconvert_exporter": "python",
   "pygments_lexer": "ipython3",
   "version": "3.9.6"
  },
  "orig_nbformat": 4
 },
 "nbformat": 4,
 "nbformat_minor": 2
}
